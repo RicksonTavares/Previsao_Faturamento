{
 "cells": [
  {
   "cell_type": "code",
   "execution_count": null,
   "metadata": {
    "id": "2jeIbF886xpY"
   },
   "outputs": [],
   "source": [
    "#importando as bibliotecas\n",
    "import pandas as pd\n",
    "from sklearn.feature_selection import SelectKBest\n",
    "from sklearn.model_selection import GridSearchCV\n",
    "from sklearn.neural_network import MLPRegressor\n",
    "from sklearn.preprocessing import MinMaxScaler\n",
    "from sklearn import datasets, linear_model\n",
    "from sklearn.metrics import mean_squared_error, r2_score\n",
    "import matplotlib.pyplot as plt\n",
    "%matplotlib inline"
   ]
  },
  {
   "cell_type": "code",
   "execution_count": null,
   "metadata": {
    "colab": {
     "base_uri": "https://localhost:8080/",
     "height": 419
    },
    "id": "9nOQTdAM6xpg",
    "outputId": "0b099cfc-f912-4bbc-9fb3-29a76a66eb8d"
   },
   "outputs": [
    {
     "data": {
      "text/html": [
       "<div>\n",
       "<style scoped>\n",
       "    .dataframe tbody tr th:only-of-type {\n",
       "        vertical-align: middle;\n",
       "    }\n",
       "\n",
       "    .dataframe tbody tr th {\n",
       "        vertical-align: top;\n",
       "    }\n",
       "\n",
       "    .dataframe thead th {\n",
       "        text-align: right;\n",
       "    }\n",
       "</style>\n",
       "<table border=\"1\" class=\"dataframe\">\n",
       "  <thead>\n",
       "    <tr style=\"text-align: right;\">\n",
       "      <th></th>\n",
       "      <th>customer_id</th>\n",
       "      <th>customer_acquisition_channel</th>\n",
       "      <th>year</th>\n",
       "      <th>week</th>\n",
       "      <th>net_revenue</th>\n",
       "      <th>gross_revenue</th>\n",
       "      <th>boxes</th>\n",
       "    </tr>\n",
       "  </thead>\n",
       "  <tbody>\n",
       "    <tr>\n",
       "      <th>0</th>\n",
       "      <td>206461</td>\n",
       "      <td>Paid Marketing</td>\n",
       "      <td>2014</td>\n",
       "      <td>W09</td>\n",
       "      <td>71</td>\n",
       "      <td>71</td>\n",
       "      <td>2</td>\n",
       "    </tr>\n",
       "    <tr>\n",
       "      <th>1</th>\n",
       "      <td>462640</td>\n",
       "      <td>Paid Marketing</td>\n",
       "      <td>2015</td>\n",
       "      <td>W25</td>\n",
       "      <td>28</td>\n",
       "      <td>56</td>\n",
       "      <td>1</td>\n",
       "    </tr>\n",
       "    <tr>\n",
       "      <th>2</th>\n",
       "      <td>666461</td>\n",
       "      <td>Referral</td>\n",
       "      <td>2015</td>\n",
       "      <td>W50</td>\n",
       "      <td>40</td>\n",
       "      <td>40</td>\n",
       "      <td>1</td>\n",
       "    </tr>\n",
       "    <tr>\n",
       "      <th>3</th>\n",
       "      <td>183202</td>\n",
       "      <td>Referral</td>\n",
       "      <td>2013</td>\n",
       "      <td>W42</td>\n",
       "      <td>18</td>\n",
       "      <td>37</td>\n",
       "      <td>1</td>\n",
       "    </tr>\n",
       "    <tr>\n",
       "      <th>4</th>\n",
       "      <td>410993</td>\n",
       "      <td>Referral</td>\n",
       "      <td>2014</td>\n",
       "      <td>W29</td>\n",
       "      <td>0</td>\n",
       "      <td>37</td>\n",
       "      <td>1</td>\n",
       "    </tr>\n",
       "    <tr>\n",
       "      <th>...</th>\n",
       "      <td>...</td>\n",
       "      <td>...</td>\n",
       "      <td>...</td>\n",
       "      <td>...</td>\n",
       "      <td>...</td>\n",
       "      <td>...</td>\n",
       "      <td>...</td>\n",
       "    </tr>\n",
       "    <tr>\n",
       "      <th>715870</th>\n",
       "      <td>741230</td>\n",
       "      <td>Referral</td>\n",
       "      <td>2015</td>\n",
       "      <td>W51</td>\n",
       "      <td>0</td>\n",
       "      <td>40</td>\n",
       "      <td>1</td>\n",
       "    </tr>\n",
       "    <tr>\n",
       "      <th>715871</th>\n",
       "      <td>170503</td>\n",
       "      <td>Paid Marketing</td>\n",
       "      <td>2015</td>\n",
       "      <td>W25</td>\n",
       "      <td>9</td>\n",
       "      <td>37</td>\n",
       "      <td>1</td>\n",
       "    </tr>\n",
       "    <tr>\n",
       "      <th>715872</th>\n",
       "      <td>169910</td>\n",
       "      <td>Referral</td>\n",
       "      <td>2015</td>\n",
       "      <td>W04</td>\n",
       "      <td>37</td>\n",
       "      <td>37</td>\n",
       "      <td>1</td>\n",
       "    </tr>\n",
       "    <tr>\n",
       "      <th>715873</th>\n",
       "      <td>542301</td>\n",
       "      <td>Paid Marketing</td>\n",
       "      <td>2015</td>\n",
       "      <td>W11</td>\n",
       "      <td>56</td>\n",
       "      <td>56</td>\n",
       "      <td>1</td>\n",
       "    </tr>\n",
       "    <tr>\n",
       "      <th>715874</th>\n",
       "      <td>725361</td>\n",
       "      <td>Paid Marketing</td>\n",
       "      <td>2015</td>\n",
       "      <td>W50</td>\n",
       "      <td>54</td>\n",
       "      <td>54</td>\n",
       "      <td>1</td>\n",
       "    </tr>\n",
       "  </tbody>\n",
       "</table>\n",
       "<p>715875 rows × 7 columns</p>\n",
       "</div>"
      ],
      "text/plain": [
       "        customer_id customer_acquisition_channel  ...  gross_revenue boxes\n",
       "0            206461               Paid Marketing  ...             71     2\n",
       "1            462640               Paid Marketing  ...             56     1\n",
       "2            666461                     Referral  ...             40     1\n",
       "3            183202                     Referral  ...             37     1\n",
       "4            410993                     Referral  ...             37     1\n",
       "...             ...                          ...  ...            ...   ...\n",
       "715870       741230                     Referral  ...             40     1\n",
       "715871       170503               Paid Marketing  ...             37     1\n",
       "715872       169910                     Referral  ...             37     1\n",
       "715873       542301               Paid Marketing  ...             56     1\n",
       "715874       725361               Paid Marketing  ...             54     1\n",
       "\n",
       "[715875 rows x 7 columns]"
      ]
     },
     "execution_count": 16,
     "metadata": {},
     "output_type": "execute_result"
    }
   ],
   "source": [
    "#lendo o arquivo de ações\n",
    "#Lendo csv\n",
    "\n",
    "df = pd.read_csv(\"dados.csv\", delimiter=';')\n",
    "df"
   ]
  },
  {
   "cell_type": "code",
   "execution_count": null,
   "metadata": {
    "colab": {
     "base_uri": "https://localhost:8080/"
    },
    "id": "r9fyIl7K6xpk",
    "outputId": "44a4bb75-aa0d-4360-fa4c-d199717c3052"
   },
   "outputs": [
    {
     "data": {
      "text/plain": [
       "customer_id                      int64\n",
       "customer_acquisition_channel    object\n",
       "year                             int64\n",
       "week                            object\n",
       "net_revenue                      int64\n",
       "gross_revenue                    int64\n",
       "boxes                            int64\n",
       "dtype: object"
      ]
     },
     "execution_count": 17,
     "metadata": {},
     "output_type": "execute_result"
    }
   ],
   "source": [
    "#verificar o tipo do arquivo\n",
    "df.dtypes"
   ]
  },
  {
   "cell_type": "code",
   "execution_count": null,
   "metadata": {
    "colab": {
     "base_uri": "https://localhost:8080/",
     "height": 204
    },
    "id": "69OILZEq6xpn",
    "outputId": "6e4d7588-a20b-43a1-8f5d-a1667f0753eb"
   },
   "outputs": [
    {
     "data": {
      "text/html": [
       "<div>\n",
       "<style scoped>\n",
       "    .dataframe tbody tr th:only-of-type {\n",
       "        vertical-align: middle;\n",
       "    }\n",
       "\n",
       "    .dataframe tbody tr th {\n",
       "        vertical-align: top;\n",
       "    }\n",
       "\n",
       "    .dataframe thead th {\n",
       "        text-align: right;\n",
       "    }\n",
       "</style>\n",
       "<table border=\"1\" class=\"dataframe\">\n",
       "  <thead>\n",
       "    <tr style=\"text-align: right;\">\n",
       "      <th></th>\n",
       "      <th>customer_id</th>\n",
       "      <th>customer_acquisition_channel</th>\n",
       "      <th>year</th>\n",
       "      <th>week</th>\n",
       "      <th>net_revenue</th>\n",
       "      <th>gross_revenue</th>\n",
       "      <th>boxes</th>\n",
       "    </tr>\n",
       "  </thead>\n",
       "  <tbody>\n",
       "    <tr>\n",
       "      <th>715870</th>\n",
       "      <td>741230</td>\n",
       "      <td>Referral</td>\n",
       "      <td>2015</td>\n",
       "      <td>W51</td>\n",
       "      <td>0</td>\n",
       "      <td>40</td>\n",
       "      <td>1</td>\n",
       "    </tr>\n",
       "    <tr>\n",
       "      <th>715871</th>\n",
       "      <td>170503</td>\n",
       "      <td>Paid Marketing</td>\n",
       "      <td>2015</td>\n",
       "      <td>W25</td>\n",
       "      <td>9</td>\n",
       "      <td>37</td>\n",
       "      <td>1</td>\n",
       "    </tr>\n",
       "    <tr>\n",
       "      <th>715872</th>\n",
       "      <td>169910</td>\n",
       "      <td>Referral</td>\n",
       "      <td>2015</td>\n",
       "      <td>W04</td>\n",
       "      <td>37</td>\n",
       "      <td>37</td>\n",
       "      <td>1</td>\n",
       "    </tr>\n",
       "    <tr>\n",
       "      <th>715873</th>\n",
       "      <td>542301</td>\n",
       "      <td>Paid Marketing</td>\n",
       "      <td>2015</td>\n",
       "      <td>W11</td>\n",
       "      <td>56</td>\n",
       "      <td>56</td>\n",
       "      <td>1</td>\n",
       "    </tr>\n",
       "    <tr>\n",
       "      <th>715874</th>\n",
       "      <td>725361</td>\n",
       "      <td>Paid Marketing</td>\n",
       "      <td>2015</td>\n",
       "      <td>W50</td>\n",
       "      <td>54</td>\n",
       "      <td>54</td>\n",
       "      <td>1</td>\n",
       "    </tr>\n",
       "  </tbody>\n",
       "</table>\n",
       "</div>"
      ],
      "text/plain": [
       "        customer_id customer_acquisition_channel  ...  gross_revenue boxes\n",
       "715870       741230                     Referral  ...             40     1\n",
       "715871       170503               Paid Marketing  ...             37     1\n",
       "715872       169910                     Referral  ...             37     1\n",
       "715873       542301               Paid Marketing  ...             56     1\n",
       "715874       725361               Paid Marketing  ...             54     1\n",
       "\n",
       "[5 rows x 7 columns]"
      ]
     },
     "execution_count": 18,
     "metadata": {},
     "output_type": "execute_result"
    }
   ],
   "source": [
    "df.tail()"
   ]
  },
  {
   "cell_type": "code",
   "execution_count": null,
   "metadata": {
    "colab": {
     "base_uri": "https://localhost:8080/",
     "height": 419
    },
    "id": "K-hs4Lb06xpt",
    "outputId": "c2ac909a-a01d-4ca5-a045-d96ff42eeb77"
   },
   "outputs": [
    {
     "data": {
      "text/html": [
       "<div>\n",
       "<style scoped>\n",
       "    .dataframe tbody tr th:only-of-type {\n",
       "        vertical-align: middle;\n",
       "    }\n",
       "\n",
       "    .dataframe tbody tr th {\n",
       "        vertical-align: top;\n",
       "    }\n",
       "\n",
       "    .dataframe thead th {\n",
       "        text-align: right;\n",
       "    }\n",
       "</style>\n",
       "<table border=\"1\" class=\"dataframe\">\n",
       "  <thead>\n",
       "    <tr style=\"text-align: right;\">\n",
       "      <th></th>\n",
       "      <th>customer_id</th>\n",
       "      <th>customer_acquisition_channel</th>\n",
       "      <th>year</th>\n",
       "      <th>week</th>\n",
       "      <th>net_revenue</th>\n",
       "      <th>gross_revenue</th>\n",
       "      <th>boxes</th>\n",
       "    </tr>\n",
       "  </thead>\n",
       "  <tbody>\n",
       "    <tr>\n",
       "      <th>0</th>\n",
       "      <td>206461</td>\n",
       "      <td>Paid Marketing</td>\n",
       "      <td>2014</td>\n",
       "      <td>W09</td>\n",
       "      <td>71</td>\n",
       "      <td>71</td>\n",
       "      <td>2</td>\n",
       "    </tr>\n",
       "    <tr>\n",
       "      <th>1</th>\n",
       "      <td>462640</td>\n",
       "      <td>Paid Marketing</td>\n",
       "      <td>2015</td>\n",
       "      <td>W25</td>\n",
       "      <td>28</td>\n",
       "      <td>56</td>\n",
       "      <td>1</td>\n",
       "    </tr>\n",
       "    <tr>\n",
       "      <th>2</th>\n",
       "      <td>666461</td>\n",
       "      <td>Referral</td>\n",
       "      <td>2015</td>\n",
       "      <td>W50</td>\n",
       "      <td>40</td>\n",
       "      <td>40</td>\n",
       "      <td>1</td>\n",
       "    </tr>\n",
       "    <tr>\n",
       "      <th>3</th>\n",
       "      <td>183202</td>\n",
       "      <td>Referral</td>\n",
       "      <td>2013</td>\n",
       "      <td>W42</td>\n",
       "      <td>18</td>\n",
       "      <td>37</td>\n",
       "      <td>1</td>\n",
       "    </tr>\n",
       "    <tr>\n",
       "      <th>4</th>\n",
       "      <td>410993</td>\n",
       "      <td>Referral</td>\n",
       "      <td>2014</td>\n",
       "      <td>W29</td>\n",
       "      <td>0</td>\n",
       "      <td>37</td>\n",
       "      <td>1</td>\n",
       "    </tr>\n",
       "    <tr>\n",
       "      <th>...</th>\n",
       "      <td>...</td>\n",
       "      <td>...</td>\n",
       "      <td>...</td>\n",
       "      <td>...</td>\n",
       "      <td>...</td>\n",
       "      <td>...</td>\n",
       "      <td>...</td>\n",
       "    </tr>\n",
       "    <tr>\n",
       "      <th>715870</th>\n",
       "      <td>741230</td>\n",
       "      <td>Referral</td>\n",
       "      <td>2015</td>\n",
       "      <td>W51</td>\n",
       "      <td>0</td>\n",
       "      <td>40</td>\n",
       "      <td>1</td>\n",
       "    </tr>\n",
       "    <tr>\n",
       "      <th>715871</th>\n",
       "      <td>170503</td>\n",
       "      <td>Paid Marketing</td>\n",
       "      <td>2015</td>\n",
       "      <td>W25</td>\n",
       "      <td>9</td>\n",
       "      <td>37</td>\n",
       "      <td>1</td>\n",
       "    </tr>\n",
       "    <tr>\n",
       "      <th>715872</th>\n",
       "      <td>169910</td>\n",
       "      <td>Referral</td>\n",
       "      <td>2015</td>\n",
       "      <td>W04</td>\n",
       "      <td>37</td>\n",
       "      <td>37</td>\n",
       "      <td>1</td>\n",
       "    </tr>\n",
       "    <tr>\n",
       "      <th>715873</th>\n",
       "      <td>542301</td>\n",
       "      <td>Paid Marketing</td>\n",
       "      <td>2015</td>\n",
       "      <td>W11</td>\n",
       "      <td>56</td>\n",
       "      <td>56</td>\n",
       "      <td>1</td>\n",
       "    </tr>\n",
       "    <tr>\n",
       "      <th>715874</th>\n",
       "      <td>725361</td>\n",
       "      <td>Paid Marketing</td>\n",
       "      <td>2015</td>\n",
       "      <td>W50</td>\n",
       "      <td>54</td>\n",
       "      <td>54</td>\n",
       "      <td>1</td>\n",
       "    </tr>\n",
       "  </tbody>\n",
       "</table>\n",
       "<p>715875 rows × 7 columns</p>\n",
       "</div>"
      ],
      "text/plain": [
       "        customer_id customer_acquisition_channel  ...  gross_revenue boxes\n",
       "0            206461               Paid Marketing  ...             71     2\n",
       "1            462640               Paid Marketing  ...             56     1\n",
       "2            666461                     Referral  ...             40     1\n",
       "3            183202                     Referral  ...             37     1\n",
       "4            410993                     Referral  ...             37     1\n",
       "...             ...                          ...  ...            ...   ...\n",
       "715870       741230                     Referral  ...             40     1\n",
       "715871       170503               Paid Marketing  ...             37     1\n",
       "715872       169910                     Referral  ...             37     1\n",
       "715873       542301               Paid Marketing  ...             56     1\n",
       "715874       725361               Paid Marketing  ...             54     1\n",
       "\n",
       "[715875 rows x 7 columns]"
      ]
     },
     "execution_count": 19,
     "metadata": {},
     "output_type": "execute_result"
    }
   ],
   "source": [
    "#retirando os dados nulos\n",
    "df.dropna(inplace=True)\n",
    "df"
   ]
  },
  {
   "cell_type": "code",
   "execution_count": 5,
   "metadata": {
    "colab": {
     "base_uri": "https://localhost:8080/"
    },
    "id": "9D-VEPI6G0AB",
    "outputId": "14ffb72e-c301-4fdd-efde-ad4e364aa9ec"
   },
   "outputs": [
    {
     "data": {
      "text/plain": [
       "['year', 'gross_revenue', 'boxes']"
      ]
     },
     "execution_count": 5,
     "metadata": {},
     "output_type": "execute_result"
    }
   ],
   "source": [
    "#Criando variáveis numéricas\n",
    "x_num = ['year', 'gross_revenue', 'boxes']\n",
    "x_num"
   ]
  },
  {
   "cell_type": "code",
   "execution_count": 6,
   "metadata": {
    "colab": {
     "base_uri": "https://localhost:8080/"
    },
    "id": "cTLAO5hbHGM2",
    "outputId": "66e29e0b-e3fe-4c6a-b65a-bfb3beb76617"
   },
   "outputs": [
    {
     "data": {
      "text/plain": [
       "['customer_acquisition_channel', 'week']"
      ]
     },
     "execution_count": 6,
     "metadata": {},
     "output_type": "execute_result"
    }
   ],
   "source": [
    "#Criando variáveis categóricas\n",
    "x_cat = ['customer_acquisition_channel', 'week']\n",
    "x_cat"
   ]
  },
  {
   "cell_type": "code",
   "execution_count": null,
   "metadata": {
    "colab": {
     "base_uri": "https://localhost:8080/",
     "height": 214
    },
    "id": "rfA13BwAHGz8",
    "outputId": "a3b8870f-5f61-4eb3-8909-a81a0194ac5a"
   },
   "outputs": [],
   "source": [
    "# Processamento das variáveis categóricas week\n",
    "\n",
    "#Substituindo a variável week para sequencial\n",
    "from sklearn.preprocessing import LabelEncoder\n",
    "le = LabelEncoder()\n",
    "x['customer_acquisition_channel'] = le.fit_transform(df['customer_acquisition_channel']) \n",
    "x.head(10)"
   ]
  },
  {
   "cell_type": "code",
   "execution_count": null,
   "metadata": {
    "colab": {
     "base_uri": "https://localhost:8080/",
     "height": 35
    },
    "id": "mXmT44eH6xpu",
    "outputId": "9e1c463c-39e5-4c24-b490-424571dfacf9"
   },
   "outputs": [
    {
     "data": {
      "application/vnd.google.colaboratory.intrinsic+json": {
       "type": "string"
      },
      "text/plain": [
       "'linhas treino= 0:501112 linhas teste= 501112:715874 linhas validação= 715874'"
      ]
     },
     "execution_count": 20,
     "metadata": {},
     "output_type": "execute_result"
    }
   ],
   "source": [
    "#verificando quantidade de linhas\n",
    "qtd_linhas = len(df)\n",
    "\n",
    "qtd_linhas_treino= round(.70 * qtd_linhas)\n",
    "qtd_linhas_teste= qtd_linhas - qtd_linhas_treino  \n",
    "qtd_linhas_validacao = qtd_linhas -1\n",
    "\n",
    "info = (\n",
    "    f\"linhas treino= 0:{qtd_linhas_treino}\"\n",
    "    f\" linhas teste= {qtd_linhas_treino}:{qtd_linhas_treino + qtd_linhas_teste -1}\"\n",
    "    f\" linhas validação= {qtd_linhas_validacao}\"\n",
    ")\n",
    "\n",
    "info\n"
   ]
  },
  {
   "cell_type": "code",
   "execution_count": null,
   "metadata": {
    "id": "srhOrExk6xpv"
   },
   "outputs": [],
   "source": [
    "#separando as features e labels\n",
    "features = df.drop(['customer_id', 'customer_acquisition_channel', 'week'], 1)\n",
    "labels = df['net_revenue']"
   ]
  },
  {
   "cell_type": "code",
   "execution_count": null,
   "metadata": {
    "colab": {
     "base_uri": "https://localhost:8080/"
    },
    "id": "cqaLlrZ06xpw",
    "outputId": "a727bd47-e340-4126-ce91-4fda3e2aa843"
   },
   "outputs": [
    {
     "name": "stdout",
     "output_type": "stream",
     "text": [
      "\n",
      "Melhores features:\n",
      "{'boxes': inf, 'gross_revenue': 706.2553627976323}\n"
     ]
    },
    {
     "name": "stderr",
     "output_type": "stream",
     "text": [
      "/usr/local/lib/python3.7/dist-packages/sklearn/feature_selection/_univariate_selection.py:113: RuntimeWarning: divide by zero encountered in true_divide\n",
      "  f = msb / msw\n"
     ]
    }
   ],
   "source": [
    "#Escolhendo as melhores features com Kbest\n",
    "\n",
    "features_list = ('year',\t'gross_revenue',\t'boxes')\n",
    "\n",
    "k_best_features = SelectKBest(k='all')\n",
    "k_best_features.fit_transform(features, labels)\n",
    "k_best_features_scores = k_best_features.scores_\n",
    "raw_pairs = zip(features_list[1:], k_best_features_scores)\n",
    "ordered_pairs = list(reversed(sorted(raw_pairs, key=lambda x: x[1])))\n",
    "\n",
    "k_best_features_final = dict(ordered_pairs[:15])\n",
    "best_features = k_best_features_final.keys()\n",
    "print ('')\n",
    "print (\"Melhores features:\")\n",
    "print (k_best_features_final)"
   ]
  },
  {
   "cell_type": "code",
   "execution_count": null,
   "metadata": {
    "id": "JHgcwjok6xpw"
   },
   "outputs": [],
   "source": [
    "#separando as features escolhidas\n",
    "features = df.loc[:,['gross_revenue']]"
   ]
  },
  {
   "cell_type": "code",
   "execution_count": null,
   "metadata": {
    "colab": {
     "base_uri": "https://localhost:8080/",
     "height": 419
    },
    "id": "Xnkm6YQv6xpx",
    "outputId": "3037a16a-3058-4d45-e799-35d6378710c3"
   },
   "outputs": [
    {
     "data": {
      "text/html": [
       "<div>\n",
       "<style scoped>\n",
       "    .dataframe tbody tr th:only-of-type {\n",
       "        vertical-align: middle;\n",
       "    }\n",
       "\n",
       "    .dataframe tbody tr th {\n",
       "        vertical-align: top;\n",
       "    }\n",
       "\n",
       "    .dataframe thead th {\n",
       "        text-align: right;\n",
       "    }\n",
       "</style>\n",
       "<table border=\"1\" class=\"dataframe\">\n",
       "  <thead>\n",
       "    <tr style=\"text-align: right;\">\n",
       "      <th></th>\n",
       "      <th>gross_revenue</th>\n",
       "    </tr>\n",
       "  </thead>\n",
       "  <tbody>\n",
       "    <tr>\n",
       "      <th>0</th>\n",
       "      <td>71</td>\n",
       "    </tr>\n",
       "    <tr>\n",
       "      <th>1</th>\n",
       "      <td>56</td>\n",
       "    </tr>\n",
       "    <tr>\n",
       "      <th>2</th>\n",
       "      <td>40</td>\n",
       "    </tr>\n",
       "    <tr>\n",
       "      <th>3</th>\n",
       "      <td>37</td>\n",
       "    </tr>\n",
       "    <tr>\n",
       "      <th>4</th>\n",
       "      <td>37</td>\n",
       "    </tr>\n",
       "    <tr>\n",
       "      <th>...</th>\n",
       "      <td>...</td>\n",
       "    </tr>\n",
       "    <tr>\n",
       "      <th>715870</th>\n",
       "      <td>40</td>\n",
       "    </tr>\n",
       "    <tr>\n",
       "      <th>715871</th>\n",
       "      <td>37</td>\n",
       "    </tr>\n",
       "    <tr>\n",
       "      <th>715872</th>\n",
       "      <td>37</td>\n",
       "    </tr>\n",
       "    <tr>\n",
       "      <th>715873</th>\n",
       "      <td>56</td>\n",
       "    </tr>\n",
       "    <tr>\n",
       "      <th>715874</th>\n",
       "      <td>54</td>\n",
       "    </tr>\n",
       "  </tbody>\n",
       "</table>\n",
       "<p>715875 rows × 1 columns</p>\n",
       "</div>"
      ],
      "text/plain": [
       "        gross_revenue\n",
       "0                  71\n",
       "1                  56\n",
       "2                  40\n",
       "3                  37\n",
       "4                  37\n",
       "...               ...\n",
       "715870             40\n",
       "715871             37\n",
       "715872             37\n",
       "715873             56\n",
       "715874             54\n",
       "\n",
       "[715875 rows x 1 columns]"
      ]
     },
     "execution_count": 29,
     "metadata": {},
     "output_type": "execute_result"
    }
   ],
   "source": [
    "features"
   ]
  },
  {
   "cell_type": "code",
   "execution_count": null,
   "metadata": {
    "colab": {
     "base_uri": "https://localhost:8080/"
    },
    "id": "iNzQLoDY6xpx",
    "outputId": "38e7da92-438d-4349-da97-89fbfae9418a"
   },
   "outputs": [
    {
     "name": "stdout",
     "output_type": "stream",
     "text": [
      "501112 501112\n",
      "214762 214762\n"
     ]
    }
   ],
   "source": [
    "#Separa os dados de treino teste e validação\n",
    "X_train = features[:qtd_linhas_treino]\n",
    "X_test = features[qtd_linhas_treino:qtd_linhas_treino + qtd_linhas_teste -1]\n",
    "\n",
    "y_train = labels[:qtd_linhas_treino]\n",
    "y_test = labels[qtd_linhas_treino:qtd_linhas_treino + qtd_linhas_teste -1]\n",
    "\n",
    "print( len(X_train), len(y_train))\n",
    "\n",
    "print( len(X_test), len(y_test))"
   ]
  },
  {
   "cell_type": "code",
   "execution_count": null,
   "metadata": {
    "id": "GxVMwPg56xpy"
   },
   "outputs": [],
   "source": [
    "# Normalizando os dados de entrada(features)\n",
    "\n",
    "# Gerando o novo padrão\n",
    "scaler = MinMaxScaler()\n",
    "X_train_scale = scaler.fit_transform(X_train)  # Normalizando os dados de entrada(treinamento)\n",
    "X_test_scale  = scaler.transform(X_test)       # Normalizando os dados de entrada(teste)\n",
    "\n"
   ]
  },
  {
   "cell_type": "code",
   "execution_count": null,
   "metadata": {
    "colab": {
     "base_uri": "https://localhost:8080/",
     "height": 35
    },
    "id": "9fSu64kE6xpz",
    "outputId": "00673ea1-a059-49a6-d8cc-83411618760a"
   },
   "outputs": [
    {
     "data": {
      "application/vnd.google.colaboratory.intrinsic+json": {
       "type": "string"
      },
      "text/plain": [
       "'Coeficiente de determinação:48.25'"
      ]
     },
     "execution_count": 32,
     "metadata": {},
     "output_type": "execute_result"
    }
   ],
   "source": [
    "#treinamento usando regressão linear\n",
    "lr = linear_model.LinearRegression()\n",
    "lr.fit(X_train_scale, y_train)\n",
    "pred= lr.predict(X_test_scale)\n",
    "cd =r2_score(y_test, pred)\n",
    "\n",
    "f'Coeficiente de determinação:{cd * 100:.2f}'"
   ]
  },
  {
   "cell_type": "code",
   "execution_count": null,
   "metadata": {
    "colab": {
     "base_uri": "https://localhost:8080/",
     "height": 35
    },
    "id": "abkV8-ZV6xp0",
    "outputId": "3438d0ce-760d-416c-e22a-52cd10e6bdcb"
   },
   "outputs": [
    {
     "data": {
      "application/vnd.google.colaboratory.intrinsic+json": {
       "type": "string"
      },
      "text/plain": [
       "'Coeficiente de determinação:48.61'"
      ]
     },
     "execution_count": 33,
     "metadata": {},
     "output_type": "execute_result"
    }
   ],
   "source": [
    "#rede neural\n",
    "rn = MLPRegressor(max_iter=2000)\n",
    "\n",
    "rn.fit(X_train_scale, y_train)\n",
    "pred= rn.predict(X_test_scale)\n",
    "\n",
    "cd = rn.score(X_test_scale, y_test)\n",
    "\n",
    "\n",
    "f'Coeficiente de determinação:{cd * 100:.2f}'"
   ]
  },
  {
   "cell_type": "code",
   "execution_count": null,
   "metadata": {
    "colab": {
     "base_uri": "https://localhost:8080/",
     "height": 80
    },
    "id": "Wp-Y7Daw6xp1",
    "outputId": "26be77ad-a521-4122-b3da-deee76eeb7e4"
   },
   "outputs": [
    {
     "data": {
      "text/html": [
       "<div>\n",
       "<style scoped>\n",
       "    .dataframe tbody tr th:only-of-type {\n",
       "        vertical-align: middle;\n",
       "    }\n",
       "\n",
       "    .dataframe tbody tr th {\n",
       "        vertical-align: top;\n",
       "    }\n",
       "\n",
       "    .dataframe thead th {\n",
       "        text-align: right;\n",
       "    }\n",
       "</style>\n",
       "<table border=\"1\" class=\"dataframe\">\n",
       "  <thead>\n",
       "    <tr style=\"text-align: right;\">\n",
       "      <th></th>\n",
       "      <th>gross_revenue</th>\n",
       "    </tr>\n",
       "  </thead>\n",
       "  <tbody>\n",
       "    <tr>\n",
       "      <th>715874</th>\n",
       "      <td>54</td>\n",
       "    </tr>\n",
       "  </tbody>\n",
       "</table>\n",
       "</div>"
      ],
      "text/plain": [
       "        gross_revenue\n",
       "715874             54"
      ]
     },
     "execution_count": 34,
     "metadata": {},
     "output_type": "execute_result"
    }
   ],
   "source": [
    "valor_novo = features.tail(1)\n",
    "valor_novo"
   ]
  },
  {
   "cell_type": "code",
   "execution_count": null,
   "metadata": {
    "colab": {
     "base_uri": "https://localhost:8080/"
    },
    "id": "QuHJI1Dv6xp1",
    "outputId": "4c54bf78-d5bd-46ee-9711-fef1535bd980"
   },
   "outputs": [
    {
     "data": {
      "text/plain": [
       "array([48.67285091])"
      ]
     },
     "execution_count": 36,
     "metadata": {},
     "output_type": "execute_result"
    }
   ],
   "source": [
    "#executando a previsão\n",
    "\n",
    "\n",
    "previsao=scaler.transform(valor_novo)\n",
    "\n",
    "\n",
    "pred=lr.predict(previsao)\n",
    "\n",
    "pred"
   ]
  },
  {
   "cell_type": "code",
   "execution_count": null,
   "metadata": {
    "colab": {
     "base_uri": "https://localhost:8080/",
     "height": 561
    },
    "id": "Ks9qEZCy6xp2",
    "outputId": "b7ab9c92-caf6-4d79-ba40-6f550e502833"
   },
   "outputs": [],
   "source": [
    "week_full=df['week']\n",
    "week=week_full.tail(1)\n",
    "\n",
    "res_full=df['net_revenue']\n",
    "res=res_full.tail(1)\n",
    "\n",
    "df=pd.DataFrame({'week':week, 'real':res, 'previsao':pred})\n",
    "\n",
    "\n",
    "df.set_index('week', inplace=True)\n",
    "\n",
    "print(df)"
   ]
  },
  {
   "cell_type": "code",
   "execution_count": null,
   "metadata": {
    "id": "sZV8_0oW6xp3"
   },
   "outputs": [],
   "source": [
    "\n"
   ]
  }
 ],
 "metadata": {
  "colab": {
   "name": "Previsão preço ações.ipynb",
   "provenance": []
  },
  "kernelspec": {
   "display_name": "Python 3",
   "language": "python",
   "name": "python3"
  },
  "language_info": {
   "codemirror_mode": {
    "name": "ipython",
    "version": 3
   },
   "file_extension": ".py",
   "mimetype": "text/x-python",
   "name": "python",
   "nbconvert_exporter": "python",
   "pygments_lexer": "ipython3",
   "version": "3.8.5"
  }
 },
 "nbformat": 4,
 "nbformat_minor": 1
}
